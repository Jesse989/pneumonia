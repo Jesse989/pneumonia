{
 "cells": [
  {
   "cell_type": "code",
   "execution_count": 0,
   "metadata": {
    "colab": {},
    "colab_type": "code",
    "id": "4lGd4PtzEprY"
   },
   "outputs": [],
   "source": [
    "testing last time"
   ]
  },
  {
   "cell_type": "markdown",
   "metadata": {
    "colab_type": "text",
    "heading_collapsed": true,
    "id": "lNozpfaYeP5P"
   },
   "source": [
    "# Import Data"
   ]
  },
  {
   "cell_type": "code",
   "execution_count": 0,
   "metadata": {
    "colab": {
     "base_uri": "https://localhost:8080/",
     "height": 122
    },
    "colab_type": "code",
    "executionInfo": {
     "elapsed": 23461,
     "status": "ok",
     "timestamp": 1592271998781,
     "user": {
      "displayName": "Jesse Neumann",
      "photoUrl": "",
      "userId": "06645636657267556117"
     },
     "user_tz": 360
    },
    "hidden": true,
    "id": "j9rxKYgDeUGN",
    "outputId": "8734537d-abdb-440a-cf67-74d57838fc32"
   },
   "outputs": [
    {
     "name": "stdout",
     "output_type": "stream",
     "text": [
      "Go to this URL in a browser: https://accounts.google.com/o/oauth2/auth?client_id=947318989803-6bn6qk8qdgf4n4g3pfee6491hc0brc4i.apps.googleusercontent.com&redirect_uri=urn%3aietf%3awg%3aoauth%3a2.0%3aoob&response_type=code&scope=email%20https%3a%2f%2fwww.googleapis.com%2fauth%2fdocs.test%20https%3a%2f%2fwww.googleapis.com%2fauth%2fdrive%20https%3a%2f%2fwww.googleapis.com%2fauth%2fdrive.photos.readonly%20https%3a%2f%2fwww.googleapis.com%2fauth%2fpeopleapi.readonly\n",
      "\n",
      "Enter your authorization code:\n",
      "··········\n",
      "Mounted at /content/drive\n"
     ]
    }
   ],
   "source": [
    "from google.colab import drive\n",
    "drive.mount(f\"/content/drive\")"
   ]
  },
  {
   "cell_type": "code",
   "execution_count": 0,
   "metadata": {
    "colab": {
     "base_uri": "https://localhost:8080/",
     "height": 34
    },
    "colab_type": "code",
    "executionInfo": {
     "elapsed": 1945,
     "status": "ok",
     "timestamp": 1592272029613,
     "user": {
      "displayName": "Jesse Neumann",
      "photoUrl": "",
      "userId": "06645636657267556117"
     },
     "user_tz": 360
    },
    "hidden": true,
    "id": "ly6fOntMeP5Q",
    "outputId": "fcda6867-9265-4abb-8509-ca03f0c1679b"
   },
   "outputs": [
    {
     "name": "stderr",
     "output_type": "stream",
     "text": [
      "Using TensorFlow backend.\n"
     ]
    }
   ],
   "source": [
    "from keras.preprocessing.image import ImageDataGenerator, array_to_img, img_to_array"
   ]
  },
  {
   "cell_type": "code",
   "execution_count": 0,
   "metadata": {
    "colab": {},
    "colab_type": "code",
    "hidden": true,
    "id": "VTk2mz5DeP5X"
   },
   "outputs": [],
   "source": [
    "pneumonia_root = f'/content/drive/My Drive/data_science/pneumonia'\n",
    "train_path = pneumonia_root + '/data/train'\n",
    "test_path = pneumonia_root + '/data/test'"
   ]
  },
  {
   "cell_type": "code",
   "execution_count": 0,
   "metadata": {
    "colab": {
     "base_uri": "https://localhost:8080/",
     "height": 51
    },
    "colab_type": "code",
    "executionInfo": {
     "elapsed": 15444,
     "status": "ok",
     "timestamp": 1592275601649,
     "user": {
      "displayName": "Jesse Neumann",
      "photoUrl": "",
      "userId": "06645636657267556117"
     },
     "user_tz": 360
    },
    "hidden": true,
    "id": "aZ9TW-XreP5a",
    "outputId": "3e3d0a63-297f-49fe-b9d5-b117fda77c5c"
   },
   "outputs": [
    {
     "name": "stdout",
     "output_type": "stream",
     "text": [
      "Found 5216 images belonging to 2 classes.\n",
      "Found 624 images belonging to 2 classes.\n"
     ]
    }
   ],
   "source": [
    "train_gen = ImageDataGenerator(rescale=1./255,\n",
    "                               rotation_range=40,\n",
    "                               width_shift_range=0.2, \n",
    "                               height_shift_range=0.2, \n",
    "                               shear_range=0.2, \n",
    "                               zoom_range=0.2, \n",
    "                               horizontal_flip=True, \n",
    "                               fill_mode='nearest').flow_from_directory(\n",
    "    train_path,\n",
    "    class_mode='binary',\n",
    "    seed=42,\n",
    "    target_size=(150, 150),\n",
    "    batch_size=512\n",
    ")\n",
    "test_gen = ImageDataGenerator(rescale=1./255).flow_from_directory(\n",
    "    test_path,\n",
    "    class_mode='binary',\n",
    "    seed=42,\n",
    "    target_size=(150, 150),\n",
    "    batch_size=512\n",
    "\n",
    ")\n",
    "\n",
    "train_img_sample, train_label_sample = next(train_gen)\n",
    "test_img_sample, test_label_sample = next(test_gen)"
   ]
  },
  {
   "cell_type": "markdown",
   "metadata": {
    "colab_type": "text",
    "heading_collapsed": true,
    "id": "5yc310PHeP5d"
   },
   "source": [
    "# Inspect Data"
   ]
  },
  {
   "cell_type": "code",
   "execution_count": 0,
   "metadata": {
    "colab": {
     "base_uri": "https://localhost:8080/",
     "height": 184
    },
    "colab_type": "code",
    "executionInfo": {
     "elapsed": 327,
     "status": "ok",
     "timestamp": 1592272136685,
     "user": {
      "displayName": "Jesse Neumann",
      "photoUrl": "",
      "userId": "06645636657267556117"
     },
     "user_tz": 360
    },
    "hidden": true,
    "id": "TdCFLrvCeP5d",
    "outputId": "90f83e67-07ae-46f0-e866-1bbb1bce2e21"
   },
   "outputs": [
    {
     "name": "stdout",
     "output_type": "stream",
     "text": [
      "1.0\n"
     ]
    },
    {
     "data": {
      "image/png": "[encoded data removed]",
      "text/plain": [
       "<PIL.Image.Image image mode=RGB size=150x150 at 0x7FD55CB46470>"
      ]
     },
     "execution_count": 7,
     "metadata": {
      "tags": []
     },
     "output_type": "execute_result"
    }
   ],
   "source": [
    "print(train_label_sample[0])\n",
    "array_to_img(train_img_sample[0])"
   ]
  },
  {
   "cell_type": "code",
   "execution_count": 0,
   "metadata": {
    "colab": {
     "base_uri": "https://localhost:8080/",
     "height": 867
    },
    "colab_type": "code",
    "executionInfo": {
     "elapsed": 203,
     "status": "ok",
     "timestamp": 1592272137442,
     "user": {
      "displayName": "Jesse Neumann",
      "photoUrl": "",
      "userId": "06645636657267556117"
     },
     "user_tz": 360
    },
    "hidden": true,
    "id": "5IGx-9WAeP5g",
    "outputId": "6929d246-10ee-4fdc-e71b-36c0656dc778"
   },
   "outputs": [
    {
     "name": "stdout",
     "output_type": "stream",
     "text": [
      "(150, 150, 3)\n"
     ]
    },
    {
     "data": {
      "text/plain": [
       "array([[[5.1046306e-01, 5.1046306e-01, 5.1046306e-01],\n",
       "        [5.7510060e-01, 5.7510060e-01, 5.7510060e-01],\n",
       "        [6.0881424e-01, 6.0881424e-01, 6.0881424e-01],\n",
       "        ...,\n",
       "        [8.5325884e-03, 8.5325884e-03, 8.5325884e-03],\n",
       "        [7.6023336e-03, 7.6023336e-03, 7.6023336e-03],\n",
       "        [6.6720792e-03, 6.6720792e-03, 6.6720792e-03]],\n",
       "\n",
       "       [[5.1852882e-01, 5.1852882e-01, 5.1852882e-01],\n",
       "        [5.6274784e-01, 5.6274784e-01, 5.6274784e-01],\n",
       "        [5.9694380e-01, 5.9694380e-01, 5.9694380e-01],\n",
       "        ...,\n",
       "        [3.9215689e-03, 3.9215689e-03, 3.9215689e-03],\n",
       "        [3.9215689e-03, 3.9215689e-03, 3.9215689e-03],\n",
       "        [3.9215689e-03, 3.9215689e-03, 3.9215689e-03]],\n",
       "\n",
       "       [[5.0494665e-01, 5.0494665e-01, 5.0494665e-01],\n",
       "        [5.7028550e-01, 5.7028550e-01, 5.7028550e-01],\n",
       "        [6.1020887e-01, 6.1020887e-01, 6.1020887e-01],\n",
       "        ...,\n",
       "        [3.9215689e-03, 3.9215689e-03, 3.9215689e-03],\n",
       "        [3.9215689e-03, 3.9215689e-03, 3.9215689e-03],\n",
       "        [3.9215689e-03, 3.9215689e-03, 3.9215689e-03]],\n",
       "\n",
       "       ...,\n",
       "\n",
       "       [[2.3954723e-04, 2.3954723e-04, 2.3954723e-04],\n",
       "        [1.1160369e-02, 1.1160369e-02, 1.1160369e-02],\n",
       "        [7.0267297e-02, 7.0267297e-02, 7.0267297e-02],\n",
       "        ...,\n",
       "        [3.9215689e-03, 3.9215689e-03, 3.9215689e-03],\n",
       "        [3.9215689e-03, 3.9215689e-03, 3.9215689e-03],\n",
       "        [3.9215689e-03, 3.9215689e-03, 3.9215689e-03]],\n",
       "\n",
       "       [[8.6843483e-03, 8.6843483e-03, 8.6843483e-03],\n",
       "        [2.9190231e-02, 2.9190231e-02, 2.9190231e-02],\n",
       "        [5.2298263e-02, 5.2298263e-02, 5.2298263e-02],\n",
       "        ...,\n",
       "        [3.9215689e-03, 3.9215689e-03, 3.9215689e-03],\n",
       "        [3.9215689e-03, 3.9215689e-03, 3.9215689e-03],\n",
       "        [3.9215689e-03, 3.9215689e-03, 3.9215689e-03]],\n",
       "\n",
       "       [[2.9004134e-02, 2.9004134e-02, 2.9004134e-02],\n",
       "        [7.2971806e-02, 7.2971806e-02, 7.2971806e-02],\n",
       "        [6.5571152e-02, 6.5571152e-02, 6.5571152e-02],\n",
       "        ...,\n",
       "        [3.9215689e-03, 3.9215689e-03, 3.9215689e-03],\n",
       "        [3.9215689e-03, 3.9215689e-03, 3.9215689e-03],\n",
       "        [3.9215689e-03, 3.9215689e-03, 3.9215689e-03]]], dtype=float32)"
      ]
     },
     "execution_count": 8,
     "metadata": {
      "tags": []
     },
     "output_type": "execute_result"
    }
   ],
   "source": [
    "print(train_img_sample[0].shape)\n",
    "train_img_sample[0]"
   ]
  },
  {
   "cell_type": "code",
   "execution_count": 0,
   "metadata": {
    "colab": {
     "base_uri": "https://localhost:8080/",
     "height": 184
    },
    "colab_type": "code",
    "executionInfo": {
     "elapsed": 264,
     "status": "ok",
     "timestamp": 1592272137877,
     "user": {
      "displayName": "Jesse Neumann",
      "photoUrl": "",
      "userId": "06645636657267556117"
     },
     "user_tz": 360
    },
    "hidden": true,
    "id": "P6de1cY1eP5j",
    "outputId": "93eeeee2-43e0-4b6a-d18b-e2ce9181b7e5",
    "scrolled": false
   },
   "outputs": [
    {
     "name": "stdout",
     "output_type": "stream",
     "text": [
      "1.0\n"
     ]
    },
    {
     "data": {
      "image/png": "[encoded data removed]",
      "text/plain": [
       "<PIL.Image.Image image mode=RGB size=150x150 at 0x7FD55CB46908>"
      ]
     },
     "execution_count": 9,
     "metadata": {
      "tags": []
     },
     "output_type": "execute_result"
    }
   ],
   "source": [
    "print(test_label_sample[0])\n",
    "array_to_img(test_img_sample[0])"
   ]
  },
  {
   "cell_type": "markdown",
   "metadata": {
    "colab_type": "text",
    "heading_collapsed": true,
    "id": "SORoQf1LeP5m"
   },
   "source": [
    "# Setup Model"
   ]
  },
  {
   "cell_type": "code",
   "execution_count": 0,
   "metadata": {
    "colab": {},
    "colab_type": "code",
    "hidden": true,
    "id": "mr-HlreueP5n"
   },
   "outputs": [],
   "source": [
    "from keras import models\n",
    "from keras import layers\n",
    "from keras import optimizers"
   ]
  },
  {
   "cell_type": "code",
   "execution_count": 0,
   "metadata": {
    "colab": {},
    "colab_type": "code",
    "hidden": true,
    "id": "0aepDRMleP5q"
   },
   "outputs": [],
   "source": [
    "def get_model():\n",
    "  model = models.Sequential() \n",
    "  model.add(layers.Conv2D(32, (3, 3), activation='relu',\n",
    "      input_shape=(150, 150, 3))) \n",
    "  model.add(layers.MaxPooling2D((2, 2)))\n",
    "  model.add(layers.Conv2D(64, (3, 3), activation='relu')) \n",
    "  model.add(layers.MaxPooling2D((2, 2))) \n",
    "  model.add(layers.Conv2D(128, (3, 3), activation='relu'))\n",
    "  model.add(layers.MaxPooling2D((2, 2))) \n",
    "  model.add(layers.Conv2D(128, (3, 3), activation='relu')) \n",
    "  model.add(layers.MaxPooling2D((2, 2))) \n",
    "  model.add(layers.Flatten()) \n",
    "  model.add(layers.Dropout(0.5))\n",
    "  model.add(layers.Dense(512, activation='relu'))\n",
    "  model.add(layers.Dense(1, activation='sigmoid'))\n",
    "  model.compile(loss='binary_crossentropy', optimizer=optimizers.RMSprop(lr=1e-4),\n",
    "                metrics=['acc'])\n",
    "  return model"
   ]
  },
  {
   "cell_type": "markdown",
   "metadata": {
    "colab_type": "text",
    "hidden": true,
    "id": "hx4Vcsu1nBfN"
   },
   "source": [
    "### GPU Setup"
   ]
  },
  {
   "cell_type": "code",
   "execution_count": 0,
   "metadata": {
    "colab": {},
    "colab_type": "code",
    "hidden": true,
    "id": "RdIWNA60laTc"
   },
   "outputs": [],
   "source": [
    "import tensorflow as tf\n",
    "import os"
   ]
  },
  {
   "cell_type": "code",
   "execution_count": 0,
   "metadata": {
    "colab": {},
    "colab_type": "code",
    "hidden": true,
    "id": "susdAj-TeP5t"
   },
   "outputs": [],
   "source": [
    "from keras.utils.vis_utils import plot_model"
   ]
  },
  {
   "cell_type": "code",
   "execution_count": 0,
   "metadata": {
    "colab": {},
    "colab_type": "code",
    "hidden": true,
    "id": "VHsDThuXeP5y"
   },
   "outputs": [],
   "source": [
    "# plot_model(model, to_file='model_plot.png', show_shapes=True, show_layer_names=True)"
   ]
  },
  {
   "cell_type": "code",
   "execution_count": 0,
   "metadata": {
    "colab": {},
    "colab_type": "code",
    "hidden": true,
    "id": "ftvfuMcj0epB"
   },
   "outputs": [],
   "source": [
    "model = get_model()"
   ]
  },
  {
   "cell_type": "code",
   "execution_count": 0,
   "metadata": {
    "colab": {
     "base_uri": "https://localhost:8080/",
     "height": 34
    },
    "colab_type": "code",
    "executionInfo": {
     "elapsed": 212,
     "status": "ok",
     "timestamp": 1592272351797,
     "user": {
      "displayName": "Jesse Neumann",
      "photoUrl": "",
      "userId": "06645636657267556117"
     },
     "user_tz": 360
    },
    "hidden": true,
    "id": "Q_FkZo1r09tZ",
    "outputId": "c0c658da-d280-41b5-f646-e63b5a58893a"
   },
   "outputs": [
    {
     "data": {
      "text/plain": [
       "'/device:GPU:0'"
      ]
     },
     "execution_count": 18,
     "metadata": {
      "tags": []
     },
     "output_type": "execute_result"
    }
   ],
   "source": [
    "tf.test.gpu_device_name()"
   ]
  },
  {
   "cell_type": "code",
   "execution_count": 0,
   "metadata": {
    "colab": {
     "base_uri": "https://localhost:8080/",
     "height": 717
    },
    "colab_type": "code",
    "executionInfo": {
     "elapsed": 1980422,
     "status": "ok",
     "timestamp": 1592274578970,
     "user": {
      "displayName": "Jesse Neumann",
      "photoUrl": "",
      "userId": "06645636657267556117"
     },
     "user_tz": 360
    },
    "hidden": true,
    "id": "NQI7JI_5eP52",
    "outputId": "6c3d382a-a235-4bf0-8b69-71518c9d5dce"
   },
   "outputs": [
    {
     "name": "stdout",
     "output_type": "stream",
     "text": [
      "Epoch 1/20\n",
      "163/163 [==============================] - 311s 2s/step - loss: 0.5489 - acc: 0.7412 - val_loss: 0.6464 - val_acc: 0.6875\n",
      "Epoch 2/20\n",
      "163/163 [==============================] - 84s 518ms/step - loss: 0.4458 - acc: 0.7841 - val_loss: 0.4255 - val_acc: 0.7500\n",
      "Epoch 3/20\n",
      "163/163 [==============================] - 88s 537ms/step - loss: 0.3933 - acc: 0.8115 - val_loss: 0.5841 - val_acc: 0.5481\n",
      "Epoch 4/20\n",
      "163/163 [==============================] - 87s 534ms/step - loss: 0.3489 - acc: 0.8372 - val_loss: 0.4152 - val_acc: 0.8141\n",
      "Epoch 5/20\n",
      "163/163 [==============================] - 88s 538ms/step - loss: 0.3298 - acc: 0.8530 - val_loss: 0.3287 - val_acc: 0.8702\n",
      "Epoch 6/20\n",
      "163/163 [==============================] - 87s 533ms/step - loss: 0.3087 - acc: 0.8664 - val_loss: 0.6767 - val_acc: 0.8702\n",
      "Epoch 7/20\n",
      "163/163 [==============================] - 87s 535ms/step - loss: 0.2970 - acc: 0.8664 - val_loss: 1.0583 - val_acc: 0.7772\n",
      "Epoch 8/20\n",
      "163/163 [==============================] - 88s 537ms/step - loss: 0.2772 - acc: 0.8794 - val_loss: 0.1892 - val_acc: 0.8862\n",
      "Epoch 9/20\n",
      "163/163 [==============================] - 88s 541ms/step - loss: 0.2774 - acc: 0.8788 - val_loss: 0.2482 - val_acc: 0.8830\n",
      "Epoch 10/20\n",
      "163/163 [==============================] - 88s 538ms/step - loss: 0.2612 - acc: 0.8811 - val_loss: 0.4075 - val_acc: 0.8686\n",
      "Epoch 11/20\n",
      "163/163 [==============================] - 89s 543ms/step - loss: 0.2476 - acc: 0.8942 - val_loss: 0.1954 - val_acc: 0.8317\n",
      "Epoch 12/20\n",
      "163/163 [==============================] - 88s 539ms/step - loss: 0.2461 - acc: 0.8972 - val_loss: 0.4697 - val_acc: 0.9006\n",
      "Epoch 13/20\n",
      "163/163 [==============================] - 89s 546ms/step - loss: 0.2358 - acc: 0.9003 - val_loss: 0.2980 - val_acc: 0.8333\n",
      "Epoch 14/20\n",
      "163/163 [==============================] - 89s 543ms/step - loss: 0.2321 - acc: 0.9026 - val_loss: 0.1233 - val_acc: 0.8830\n",
      "Epoch 15/20\n",
      "163/163 [==============================] - 89s 546ms/step - loss: 0.2207 - acc: 0.9062 - val_loss: 0.2199 - val_acc: 0.8958\n",
      "Epoch 16/20\n",
      "163/163 [==============================] - 89s 546ms/step - loss: 0.2146 - acc: 0.9116 - val_loss: 0.0822 - val_acc: 0.8942\n",
      "Epoch 17/20\n",
      "163/163 [==============================] - 89s 545ms/step - loss: 0.2236 - acc: 0.9032 - val_loss: 0.1701 - val_acc: 0.8622\n",
      "Epoch 18/20\n",
      "163/163 [==============================] - 88s 540ms/step - loss: 0.2180 - acc: 0.9118 - val_loss: 0.3303 - val_acc: 0.9087\n",
      "Epoch 19/20\n",
      "163/163 [==============================] - 88s 539ms/step - loss: 0.2133 - acc: 0.9164 - val_loss: 0.3607 - val_acc: 0.8590\n",
      "Epoch 20/20\n",
      "163/163 [==============================] - 88s 541ms/step - loss: 0.2093 - acc: 0.9158 - val_loss: 0.1887 - val_acc: 0.9119\n"
     ]
    }
   ],
   "source": [
    "history = model.fit_generator(train_gen, epochs=20, validation_data=test_gen, use_multiprocessing=True, workers=8)"
   ]
  },
  {
   "cell_type": "markdown",
   "metadata": {
    "colab_type": "text",
    "id": "0DvnffASeP55"
   },
   "source": [
    "# Evaluation"
   ]
  },
  {
   "cell_type": "code",
   "execution_count": 0,
   "metadata": {
    "colab": {
     "base_uri": "https://localhost:8080/",
     "height": 34
    },
    "colab_type": "code",
    "executionInfo": {
     "elapsed": 282,
     "status": "ok",
     "timestamp": 1592274705087,
     "user": {
      "displayName": "Jesse Neumann",
      "photoUrl": "",
      "userId": "06645636657267556117"
     },
     "user_tz": 360
    },
    "id": "UJ75xXcv9g8I",
    "outputId": "e6ccf720-c28d-435f-e15a-27de94ac66cb"
   },
   "outputs": [
    {
     "data": {
      "text/plain": [
       "[PhysicalDevice(name='/physical_device:GPU:0', device_type='GPU')]"
      ]
     },
     "execution_count": 22,
     "metadata": {
      "tags": []
     },
     "output_type": "execute_result"
    }
   ],
   "source": [
    "tf.config.experimental.list_physical_devices('GPU')"
   ]
  },
  {
   "cell_type": "code",
   "execution_count": 0,
   "metadata": {
    "colab": {},
    "colab_type": "code",
    "id": "zT1P2ZfReP55"
   },
   "outputs": [],
   "source": [
    "import matplotlib.pyplot as plt"
   ]
  },
  {
   "cell_type": "markdown",
   "metadata": {
    "colab_type": "text",
    "id": "SPYDD_AfeP58"
   },
   "source": [
    "### Before Augmentation"
   ]
  },
  {
   "cell_type": "code",
   "execution_count": 0,
   "metadata": {
    "colab": {},
    "colab_type": "code",
    "id": "bJFnjD-yeP59",
    "outputId": "70e10291-d255-4b9a-9a65-9fac0632581d"
   },
   "outputs": [
    {
     "data": {
      "text/plain": [
       "<matplotlib.legend.Legend at 0x7fa88377e910>"
      ]
     },
     "execution_count": 31,
     "metadata": {
      "tags": []
     },
     "output_type": "execute_result"
    },
    {
     "data": {
      "image/png": "[encoded data removed]",
      "text/plain": [
       "<Figure size 432x288 with 1 Axes>"
      ]
     },
     "metadata": {
      "needs_background": "light",
      "tags": []
     },
     "output_type": "display_data"
    }
   ],
   "source": [
    "# for metric in history.history.keys():\n",
    "#     plt.plot(history.history[metric], label=metric)\n",
    "# plt.legend()"
   ]
  },
  {
   "cell_type": "code",
   "execution_count": 0,
   "metadata": {
    "colab": {},
    "colab_type": "code",
    "id": "hEYnAhbleP6A",
    "outputId": "ebbd44f7-5a22-4197-ddfc-ee4e4fd7af25"
   },
   "outputs": [
    {
     "name": "stdout",
     "output_type": "stream",
     "text": [
      "\r",
      "32/32 [==============================] - 0s 7ms/step\n"
     ]
    },
    {
     "data": {
      "text/plain": [
       "[0.6957579255104065, 0.4375]"
      ]
     },
     "execution_count": 86,
     "metadata": {
      "tags": []
     },
     "output_type": "execute_result"
    }
   ],
   "source": [
    "model.evaluate(test_img_sample, test_label_sample)"
   ]
  },
  {
   "cell_type": "markdown",
   "metadata": {
    "colab_type": "text",
    "id": "mQEd9Ai2eP6E"
   },
   "source": [
    "Showing classic signs of overfitting. Try to augment the input images using the image generator."
   ]
  },
  {
   "cell_type": "markdown",
   "metadata": {
    "colab_type": "text",
    "id": "Xk3uZHKQeP6E"
   },
   "source": [
    "### After Augmentation"
   ]
  },
  {
   "cell_type": "code",
   "execution_count": 0,
   "metadata": {
    "colab": {},
    "colab_type": "code",
    "id": "ypWiNSwceP6F",
    "outputId": "41a2ab21-3703-4281-9ad7-fddb937d1dd4"
   },
   "outputs": [
    {
     "data": {
      "text/plain": [
       "<matplotlib.legend.Legend at 0x7fa88ef554c0>"
      ]
     },
     "execution_count": 97,
     "metadata": {
      "tags": []
     },
     "output_type": "execute_result"
    },
    {
     "data": {
      "image/png": "[encoded data removed]",
      "text/plain": [
       "<Figure size 432x288 with 1 Axes>"
      ]
     },
     "metadata": {
      "needs_background": "light",
      "tags": []
     },
     "output_type": "display_data"
    }
   ],
   "source": [
    "for metric in history.history.keys():\n",
    "    plt.plot(history.history[metric], label=metric)\n",
    "plt.legend()"
   ]
  },
  {
   "cell_type": "code",
   "execution_count": 0,
   "metadata": {
    "colab": {},
    "colab_type": "code",
    "id": "q-e6NEkUeP6I",
    "outputId": "35b876bd-da82-4ae1-fa08-e4433deb7151"
   },
   "outputs": [
    {
     "name": "stdout",
     "output_type": "stream",
     "text": [
      "20/20 [==============================] - 10s 517ms/step\n"
     ]
    },
    {
     "data": {
      "text/plain": [
       "[0.45675474405288696, 0.8157051205635071]"
      ]
     },
     "execution_count": 98,
     "metadata": {
      "tags": []
     },
     "output_type": "execute_result"
    }
   ],
   "source": [
    "model.evaluate(test_gen)"
   ]
  },
  {
   "cell_type": "markdown",
   "metadata": {
    "colab_type": "text",
    "id": "zoXg4UB-eP6L"
   },
   "source": [
    "### After adding Dropout layer"
   ]
  },
  {
   "cell_type": "markdown",
   "metadata": {
    "colab_type": "text",
    "id": "CfBFxRDKeP6L"
   },
   "source": [
    "# Adding pretrained layers"
   ]
  },
  {
   "cell_type": "markdown",
   "metadata": {
    "colab_type": "text",
    "id": "Qp6F4iuVC7YO"
   },
   "source": [
    "### Model B:"
   ]
  },
  {
   "cell_type": "code",
   "execution_count": 0,
   "metadata": {
    "colab": {
     "base_uri": "https://localhost:8080/",
     "height": 734
    },
    "colab_type": "code",
    "executionInfo": {
     "elapsed": 2001881,
     "status": "ok",
     "timestamp": 1592278147966,
     "user": {
      "displayName": "Jesse Neumann",
      "photoUrl": "",
      "userId": "06645636657267556117"
     },
     "user_tz": 360
    },
    "id": "AKhGZm0i-HVj",
    "outputId": "7117042b-3078-47f1-d58f-14d44ccc6b6e"
   },
   "outputs": [
    {
     "name": "stdout",
     "output_type": "stream",
     "text": [
      "Epoch 1/20\n",
      "11/11 [==============================] - 101s 9s/step - loss: 0.1846 - acc: 0.9256 - val_loss: 0.3477 - val_acc: 0.9135\n",
      "Epoch 2/20\n",
      "11/11 [==============================] - 101s 9s/step - loss: 0.1817 - acc: 0.9285 - val_loss: 0.1933 - val_acc: 0.9151\n",
      "Epoch 3/20\n",
      "11/11 [==============================] - 101s 9s/step - loss: 0.2029 - acc: 0.9176 - val_loss: 0.3603 - val_acc: 0.8558\n",
      "Epoch 4/20\n",
      "11/11 [==============================] - 100s 9s/step - loss: 0.1751 - acc: 0.9268 - val_loss: 0.4813 - val_acc: 0.8125\n",
      "Epoch 5/20\n",
      "11/11 [==============================] - 100s 9s/step - loss: 0.1826 - acc: 0.9319 - val_loss: 0.3495 - val_acc: 0.8686\n",
      "Epoch 6/20\n",
      "11/11 [==============================] - 100s 9s/step - loss: 0.1813 - acc: 0.9268 - val_loss: 0.6019 - val_acc: 0.7804\n",
      "Epoch 7/20\n",
      "11/11 [==============================] - 99s 9s/step - loss: 0.2005 - acc: 0.9195 - val_loss: 0.4018 - val_acc: 0.8766\n",
      "Epoch 8/20\n",
      "11/11 [==============================] - 100s 9s/step - loss: 0.1872 - acc: 0.9260 - val_loss: 0.3075 - val_acc: 0.8269\n",
      "Epoch 9/20\n",
      "11/11 [==============================] - 100s 9s/step - loss: 0.1781 - acc: 0.9283 - val_loss: 0.3203 - val_acc: 0.8686\n",
      "Epoch 10/20\n",
      "11/11 [==============================] - 100s 9s/step - loss: 0.1665 - acc: 0.9362 - val_loss: 0.3267 - val_acc: 0.8830\n",
      "Epoch 11/20\n",
      "11/11 [==============================] - 100s 9s/step - loss: 0.1954 - acc: 0.9293 - val_loss: 0.4813 - val_acc: 0.8590\n",
      "Epoch 12/20\n",
      "11/11 [==============================] - 100s 9s/step - loss: 0.1795 - acc: 0.9291 - val_loss: 0.4019 - val_acc: 0.8942\n",
      "Epoch 13/20\n",
      "11/11 [==============================] - 99s 9s/step - loss: 0.1857 - acc: 0.9245 - val_loss: 0.3980 - val_acc: 0.8462\n",
      "Epoch 14/20\n",
      "11/11 [==============================] - 99s 9s/step - loss: 0.1675 - acc: 0.9296 - val_loss: 0.5804 - val_acc: 0.8077\n",
      "Epoch 15/20\n",
      "11/11 [==============================] - 100s 9s/step - loss: 0.1827 - acc: 0.9239 - val_loss: 0.2804 - val_acc: 0.9022\n",
      "Epoch 16/20\n",
      "11/11 [==============================] - 100s 9s/step - loss: 0.1716 - acc: 0.9250 - val_loss: 0.2698 - val_acc: 0.9054\n",
      "Epoch 17/20\n",
      "11/11 [==============================] - 100s 9s/step - loss: 0.1698 - acc: 0.9312 - val_loss: 0.2148 - val_acc: 0.9167\n",
      "Epoch 18/20\n",
      "11/11 [==============================] - 101s 9s/step - loss: 0.1848 - acc: 0.9202 - val_loss: 0.4373 - val_acc: 0.8654\n",
      "Epoch 19/20\n",
      "11/11 [==============================] - 100s 9s/step - loss: 0.1692 - acc: 0.9337 - val_loss: 0.5211 - val_acc: 0.8093\n",
      "Epoch 20/20\n",
      "11/11 [==============================] - 100s 9s/step - loss: 0.1783 - acc: 0.9308 - val_loss: 0.2872 - val_acc: 0.9167\n"
     ]
    },
    {
     "data": {
      "text/plain": [
       "<keras.callbacks.callbacks.History at 0x7fd55bbeca58>"
      ]
     },
     "execution_count": 32,
     "metadata": {
      "tags": []
     },
     "output_type": "execute_result"
    }
   ],
   "source": [
    "model.fit_generator(train_gen, epochs=20, validation_data=test_gen)"
   ]
  },
  {
   "cell_type": "markdown",
   "metadata": {
    "colab_type": "text",
    "id": "via9kHn7eP6M"
   },
   "source": [
    "# Logging"
   ]
  },
  {
   "cell_type": "markdown",
   "metadata": {
    "colab_type": "text",
    "id": "yM2jLQJ_eP6M"
   },
   "source": [
    "|date|model|description|loss|acc|macro recall|\n",
    "|---|---|---|---|---|---|\n",
    "|2020-06-15 14:17:16.246488|pneumonia_001.h5|initial model fit on original images|.6|.78|.5|"
   ]
  },
  {
   "cell_type": "code",
   "execution_count": 0,
   "metadata": {
    "colab": {},
    "colab_type": "code",
    "id": "XUo05QA1eP6N"
   },
   "outputs": [],
   "source": [
    "from sklearn.metrics import recall_score"
   ]
  },
  {
   "cell_type": "code",
   "execution_count": 0,
   "metadata": {
    "colab": {},
    "colab_type": "code",
    "id": "dr9WAYqweP6P"
   },
   "outputs": [],
   "source": [
    "test_y_hat = model.predict_classes(test_img_sample)"
   ]
  },
  {
   "cell_type": "code",
   "execution_count": 0,
   "metadata": {
    "colab": {
     "base_uri": "https://localhost:8080/",
     "height": 34
    },
    "colab_type": "code",
    "executionInfo": {
     "elapsed": 7745,
     "status": "ok",
     "timestamp": 1592278183454,
     "user": {
      "displayName": "Jesse Neumann",
      "photoUrl": "",
      "userId": "06645636657267556117"
     },
     "user_tz": 360
    },
    "id": "JaF7daYreP6R",
    "outputId": "1cc88601-567c-4f1d-f073-e8c15d00599e"
   },
   "outputs": [
    {
     "name": "stdout",
     "output_type": "stream",
     "text": [
      "2/2 [==============================] - 8s 4s/step\n"
     ]
    }
   ],
   "source": [
    "metrics = model.evaluate(test_gen)\n",
    "recall = recall_score(test_label_sample, test_y_hat, average='macro')"
   ]
  },
  {
   "cell_type": "code",
   "execution_count": 0,
   "metadata": {
    "colab": {
     "base_uri": "https://localhost:8080/",
     "height": 34
    },
    "colab_type": "code",
    "executionInfo": {
     "elapsed": 348,
     "status": "ok",
     "timestamp": 1592278186272,
     "user": {
      "displayName": "Jesse Neumann",
      "photoUrl": "",
      "userId": "06645636657267556117"
     },
     "user_tz": 360
    },
    "id": "q2shSyYyeP6T",
    "outputId": "619e3bcb-88af-4932-dbcd-56561afd1ccd"
   },
   "outputs": [
    {
     "data": {
      "text/plain": [
       "0.9017142111529741"
      ]
     },
     "execution_count": 37,
     "metadata": {
      "tags": []
     },
     "output_type": "execute_result"
    }
   ],
   "source": [
    "recall"
   ]
  },
  {
   "cell_type": "code",
   "execution_count": 0,
   "metadata": {
    "colab": {},
    "colab_type": "code",
    "id": "Kgs_4euueP6W"
   },
   "outputs": [],
   "source": [
    "metrics += [recall]"
   ]
  },
  {
   "cell_type": "code",
   "execution_count": 0,
   "metadata": {
    "colab": {
     "base_uri": "https://localhost:8080/",
     "height": 34
    },
    "colab_type": "code",
    "executionInfo": {
     "elapsed": 249,
     "status": "ok",
     "timestamp": 1592278193767,
     "user": {
      "displayName": "Jesse Neumann",
      "photoUrl": "",
      "userId": "06645636657267556117"
     },
     "user_tz": 360
    },
    "id": "iXR4-W--eP6Y",
    "outputId": "3d08660b-250d-4db6-f2a3-49dfa86dfc25"
   },
   "outputs": [
    {
     "name": "stdout",
     "output_type": "stream",
     "text": [
      "[0.2722194492816925, 0.9166666865348816, 0.9017142111529741]\n"
     ]
    }
   ],
   "source": [
    "print(metrics)"
   ]
  },
  {
   "cell_type": "code",
   "execution_count": 0,
   "metadata": {
    "colab": {
     "base_uri": "https://localhost:8080/",
     "height": 184
    },
    "colab_type": "code",
    "executionInfo": {
     "elapsed": 314,
     "status": "error",
     "timestamp": 1592278793354,
     "user": {
      "displayName": "Jesse Neumann",
      "photoUrl": "",
      "userId": "06645636657267556117"
     },
     "user_tz": 360
    },
    "id": "JCja9HoxNgTm",
    "outputId": "3c19a7f2-cfaa-4894-b6d5-b0006453d023"
   },
   "outputs": [
    {
     "ename": "FileNotFoundError",
     "evalue": "ignored",
     "output_type": "error",
     "traceback": [
      "\u001b[0;31m---------------------------------------------------------------------------\u001b[0m",
      "\u001b[0;31mFileNotFoundError\u001b[0m                         Traceback (most recent call last)",
      "\u001b[0;32m<ipython-input-64-568efd49177c>\u001b[0m in \u001b[0;36m<module>\u001b[0;34m()\u001b[0m\n\u001b[0;32m----> 1\u001b[0;31m \u001b[0mos\u001b[0m\u001b[0;34m.\u001b[0m\u001b[0mlistdir\u001b[0m\u001b[0;34m(\u001b[0m\u001b[0mpath\u001b[0m\u001b[0;34m)\u001b[0m\u001b[0;34m\u001b[0m\u001b[0;34m\u001b[0m\u001b[0m\n\u001b[0m",
      "\u001b[0;31mFileNotFoundError\u001b[0m: [Errno 2] No such file or directory: '/content/drive/My Drive/data_science/pneumonia/models'"
     ]
    }
   ],
   "source": [
    "os.listdir(path)"
   ]
  },
  {
   "cell_type": "code",
   "execution_count": 0,
   "metadata": {
    "colab": {},
    "colab_type": "code",
    "id": "_GDhe5WOeP6c"
   },
   "outputs": [],
   "source": [
    "from datetime import datetime\n",
    "import uuid\n",
    "\n",
    "def Log(model, description='', metrics=[], path='/models'):\n",
    "    try:\n",
    "      os.listdir(path)\n",
    "    except:\n",
    "      os.mkdir(path)\n",
    "    date = datetime.now()\n",
    "    model_fname = f\"/{uuid.uuid1()}.h5\"\n",
    "    model.save(path + model_fname)\n",
    "    description = description\n",
    "    loss, acc, recall = metrics\n",
    "    with open(path + '/models.log', 'a') as f:\n",
    "        entry = f\"{date}, {model_fname}, {description}, {loss}, {acc}, {recall}\\n\"\n",
    "        f.write(entry)"
   ]
  },
  {
   "cell_type": "code",
   "execution_count": 0,
   "metadata": {
    "colab": {},
    "colab_type": "code",
    "id": "lQMZ4xLreP6e"
   },
   "outputs": [],
   "source": [
    "path = f\"/content/drive/My Drive/data_science/pneumonia/models\"\n",
    "Log(model, 'augmented data using 512 batches from img gen', metrics, path)"
   ]
  },
  {
   "cell_type": "code",
   "execution_count": 0,
   "metadata": {
    "colab": {},
    "colab_type": "code",
    "id": "5r2jE8pbeP6g"
   },
   "outputs": [],
   "source": [
    "import pandas as pd"
   ]
  },
  {
   "cell_type": "code",
   "execution_count": 0,
   "metadata": {
    "colab": {
     "base_uri": "https://localhost:8080/",
     "height": 145
    },
    "colab_type": "code",
    "executionInfo": {
     "elapsed": 198,
     "status": "ok",
     "timestamp": 1592279008075,
     "user": {
      "displayName": "Jesse Neumann",
      "photoUrl": "",
      "userId": "06645636657267556117"
     },
     "user_tz": 360
    },
    "id": "Q8sz2BxJeP6j",
    "outputId": "626bed50-f842-4cd8-d558-5195fe07f70e"
   },
   "outputs": [
    {
     "data": {
      "text/html": [
       "<div>\n",
       "<style scoped>\n",
       "    .dataframe tbody tr th:only-of-type {\n",
       "        vertical-align: middle;\n",
       "    }\n",
       "\n",
       "    .dataframe tbody tr th {\n",
       "        vertical-align: top;\n",
       "    }\n",
       "\n",
       "    .dataframe thead th {\n",
       "        text-align: right;\n",
       "    }\n",
       "</style>\n",
       "<table border=\"1\" class=\"dataframe\">\n",
       "  <thead>\n",
       "    <tr style=\"text-align: right;\">\n",
       "      <th></th>\n",
       "      <th>datetime</th>\n",
       "      <th>model_filename</th>\n",
       "      <th>description</th>\n",
       "      <th>loss</th>\n",
       "      <th>accuracy</th>\n",
       "      <th>macro_recall</th>\n",
       "    </tr>\n",
       "  </thead>\n",
       "  <tbody>\n",
       "    <tr>\n",
       "      <th>0</th>\n",
       "      <td>2020-06-16 03:40:42.038579</td>\n",
       "      <td>2722c25c-af83-11ea-b0c2-0242ac1c0002.h5</td>\n",
       "      <td>augmented data using 512 batches from img gen</td>\n",
       "      <td>0.272219</td>\n",
       "      <td>0.916667</td>\n",
       "      <td>0.901714</td>\n",
       "    </tr>\n",
       "    <tr>\n",
       "      <th>1</th>\n",
       "      <td>2020-06-16 03:42:11.489677</td>\n",
       "      <td>/5c73ef62-af83-11ea-b0c2-0242ac1c0002.h5</td>\n",
       "      <td>augmented data using 512 batches from img gen</td>\n",
       "      <td>0.272219</td>\n",
       "      <td>0.916667</td>\n",
       "      <td>0.901714</td>\n",
       "    </tr>\n",
       "  </tbody>\n",
       "</table>\n",
       "</div>"
      ],
      "text/plain": [
       "                     datetime  ... macro_recall\n",
       "0  2020-06-16 03:40:42.038579  ...     0.901714\n",
       "1  2020-06-16 03:42:11.489677  ...     0.901714\n",
       "\n",
       "[2 rows x 6 columns]"
      ]
     },
     "execution_count": 70,
     "metadata": {
      "tags": []
     },
     "output_type": "execute_result"
    }
   ],
   "source": [
    "pd.read_csv(path + '/models.log', names=['datetime', 'model_filename', 'description', 'loss', 'accuracy', 'macro_recall'])"
   ]
  },
  {
   "cell_type": "code",
   "execution_count": 0,
   "metadata": {
    "colab": {},
    "colab_type": "code",
    "id": "MWKFmSsBeP6m"
   },
   "outputs": [],
   "source": []
  }
 ],
 "metadata": {
  "accelerator": "GPU",
  "colab": {
   "collapsed_sections": [],
   "name": "initial.ipynb",
   "provenance": [],
   "toc_visible": true
  },
  "kernelspec": {
   "display_name": "Python [conda env:deep] *",
   "language": "python",
   "name": "conda-env-deep-py"
  },
  "language_info": {
   "codemirror_mode": {
    "name": "ipython",
    "version": 3
   },
   "file_extension": ".py",
   "mimetype": "text/x-python",
   "name": "python",
   "nbconvert_exporter": "python",
   "pygments_lexer": "ipython3",
   "version": "3.8.3"
  },
  "toc": {
   "base_numbering": 1,
   "nav_menu": {},
   "number_sections": true,
   "sideBar": true,
   "skip_h1_title": false,
   "title_cell": "Table of Contents",
   "title_sidebar": "Contents",
   "toc_cell": false,
   "toc_position": {},
   "toc_section_display": true,
   "toc_window_display": false
  }
 },
 "nbformat": 4,
 "nbformat_minor": 1
}
